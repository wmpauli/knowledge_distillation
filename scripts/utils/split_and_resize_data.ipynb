{
 "cells": [
  {
   "cell_type": "code",
   "execution_count": 1,
   "metadata": {
    "collapsed": true
   },
   "outputs": [],
   "source": [
    "import numpy as np\n",
    "import pandas as pd\n",
    "\n",
    "from PIL import Image, ImageEnhance\n",
    "import torchvision.transforms as transforms\n",
    "\n",
    "import os\n",
    "from tqdm import tqdm "
   ]
  },
  {
   "cell_type": "code",
   "execution_count": 2,
   "metadata": {
    "collapsed": true
   },
   "outputs": [],
   "source": [
    "# the folder from 256_ObjectCategories.tar file\n",
    "train_dir = '/home/ubuntu/data/256_ObjectCategories/'\n",
    "\n",
    "# a folder where resized and split data will be stored\n",
    "data_dir = '/home/ubuntu/data/'"
   ]
  },
  {
   "cell_type": "markdown",
   "metadata": {},
   "source": [
    "# Load constant train-val split"
   ]
  },
  {
   "cell_type": "code",
   "execution_count": 3,
   "metadata": {
    "collapsed": true
   },
   "outputs": [],
   "source": [
    "T = pd.read_csv('../train_val_split/train_metadata.csv')\n",
    "V = pd.read_csv('../train_val_split/val_metadata.csv')"
   ]
  },
  {
   "cell_type": "markdown",
   "metadata": {},
   "source": [
    "# Create directories for different categories"
   ]
  },
  {
   "cell_type": "code",
   "execution_count": 4,
   "metadata": {
    "collapsed": true
   },
   "outputs": [],
   "source": [
    "os.mkdir(data_dir + 'train')\n",
    "for i in range(1, 256 + 1):\n",
    "    os.mkdir(data_dir + 'train/' + str(i))"
   ]
  },
  {
   "cell_type": "code",
   "execution_count": 5,
   "metadata": {
    "collapsed": true
   },
   "outputs": [],
   "source": [
    "os.mkdir(data_dir + 'val')\n",
    "for i in range(1, 256 + 1):\n",
    "    os.mkdir(data_dir + 'val/' + str(i))"
   ]
  },
  {
   "cell_type": "markdown",
   "metadata": {},
   "source": [
    "# Resize val. images"
   ]
  },
  {
   "cell_type": "code",
   "execution_count": 6,
   "metadata": {
    "collapsed": true
   },
   "outputs": [],
   "source": [
    "val_transform = transforms.Compose([\n",
    "    transforms.Scale(299, Image.LANCZOS),\n",
    "    transforms.CenterCrop(299)\n",
    "])"
   ]
  },
  {
   "cell_type": "code",
   "execution_count": 7,
   "metadata": {},
   "outputs": [
    {
     "data": {
      "text/plain": [
       "5120"
      ]
     },
     "execution_count": 7,
     "metadata": {},
     "output_type": "execute_result"
    }
   ],
   "source": [
    "val_size = len(V)\n",
    "val_size"
   ]
  },
  {
   "cell_type": "code",
   "execution_count": 8,
   "metadata": {
    "scrolled": true
   },
   "outputs": [
    {
     "name": "stderr",
     "output_type": "stream",
     "text": [
      "5033it [01:24, 59.70it/s]\n"
     ]
    }
   ],
   "source": [
    "# resize RGB images\n",
    "for i, row in tqdm(V.loc[V.channels == 3].iterrows()):\n",
    "    # get image\n",
    "    file_path = os.path.join(train_dir, row.directory, row.img_name)\n",
    "    image = Image.open(file_path)\n",
    "    \n",
    "    # transform it\n",
    "    image = val_transform(image)\n",
    "    \n",
    "    # save\n",
    "    save_path = os.path.join(data_dir, 'val', str(row.category_number), row.img_name)\n",
    "    image.save(save_path, 'jpeg')"
   ]
  },
  {
   "cell_type": "code",
   "execution_count": 9,
   "metadata": {},
   "outputs": [
    {
     "name": "stderr",
     "output_type": "stream",
     "text": [
      "87it [00:01, 87.24it/s]\n"
     ]
    }
   ],
   "source": [
    "# resize grayscale images\n",
    "for i, row in tqdm(V.loc[V.channels == 1].iterrows()):\n",
    "    # get image\n",
    "    file_path = os.path.join(train_dir, row.directory, row.img_name)\n",
    "    image = Image.open(file_path)\n",
    "    \n",
    "    # transform it\n",
    "    image = val_transform(image)\n",
    "    \n",
    "    # convert to RGB\n",
    "    array = np.asarray(image, dtype='uint8')\n",
    "    array = np.stack([array, array, array], axis=2)\n",
    "    image = Image.fromarray(array)\n",
    "    \n",
    "    # save\n",
    "    save_path = os.path.join(data_dir, 'val', str(row.category_number), row.img_name)\n",
    "    image.save(save_path, 'jpeg')"
   ]
  },
  {
   "cell_type": "markdown",
   "metadata": {},
   "source": [
    "# Resize train images"
   ]
  },
  {
   "cell_type": "code",
   "execution_count": 10,
   "metadata": {
    "collapsed": true
   },
   "outputs": [],
   "source": [
    "enhancers = {\n",
    "    0: lambda image, f: ImageEnhance.Color(image).enhance(f),\n",
    "    1: lambda image, f: ImageEnhance.Contrast(image).enhance(f),\n",
    "    2: lambda image, f: ImageEnhance.Brightness(image).enhance(f),\n",
    "    3: lambda image, f: ImageEnhance.Sharpness(image).enhance(f)\n",
    "}\n",
    "\n",
    "factors = {\n",
    "    0: lambda: np.random.uniform(0.4, 1.6),\n",
    "    1: lambda: np.random.uniform(0.8, 1.2),\n",
    "    2: lambda: np.random.uniform(0.8, 1.2),\n",
    "    3: lambda: np.random.uniform(0.4, 1.6)\n",
    "}\n",
    "\n",
    "# randomly enhance images in random order\n",
    "def enhance(image):\n",
    "    order = [0, 1, 2, 3]\n",
    "    np.random.shuffle(order)\n",
    "    for i in order:\n",
    "        f = factors[i]()\n",
    "        image = enhancers[i](image, f)\n",
    "    return image"
   ]
  },
  {
   "cell_type": "code",
   "execution_count": 11,
   "metadata": {
    "collapsed": true
   },
   "outputs": [],
   "source": [
    "train_transform_rare = transforms.Compose([\n",
    "    transforms.Scale(384, Image.LANCZOS),\n",
    "    transforms.RandomCrop(299),\n",
    "    transforms.RandomHorizontalFlip(),\n",
    "    transforms.Lambda(enhance)\n",
    "])\n",
    "\n",
    "train_transform = transforms.Compose([\n",
    "    transforms.Scale(384, Image.LANCZOS),\n",
    "    transforms.RandomCrop(299),\n",
    "    transforms.RandomHorizontalFlip(),\n",
    "])"
   ]
  },
  {
   "cell_type": "code",
   "execution_count": 12,
   "metadata": {
    "collapsed": true
   },
   "outputs": [],
   "source": [
    "# number of images in each category\n",
    "class_counts = dict(T.category_name.value_counts())\n",
    "np.save('class_counts.npy', class_counts)"
   ]
  },
  {
   "cell_type": "code",
   "execution_count": 13,
   "metadata": {
    "collapsed": true,
    "scrolled": true
   },
   "outputs": [],
   "source": [
    "# sample with replacement 100 images from each category\n",
    "T = T.groupby('category_name', group_keys=False).apply(lambda x: x.sample(n=100, replace=True))\n",
    "T.reset_index(drop=True, inplace=True)"
   ]
  },
  {
   "cell_type": "code",
   "execution_count": 14,
   "metadata": {},
   "outputs": [
    {
     "data": {
      "text/plain": [
       "25600"
      ]
     },
     "execution_count": 14,
     "metadata": {},
     "output_type": "execute_result"
    }
   ],
   "source": [
    "train_size = len(T)\n",
    "train_size"
   ]
  },
  {
   "cell_type": "code",
   "execution_count": 15,
   "metadata": {},
   "outputs": [
    {
     "name": "stderr",
     "output_type": "stream",
     "text": [
      "25261it [11:57, 35.22it/s]\n"
     ]
    }
   ],
   "source": [
    "# resize RGB images\n",
    "for i, row in tqdm(T.loc[T.channels == 3].iterrows()):\n",
    "    # get image\n",
    "    file_path = os.path.join(train_dir, row.directory, row.img_name)\n",
    "    image = Image.open(file_path)\n",
    "    \n",
    "    # transform it\n",
    "    if class_counts[row.category_name] < 100:\n",
    "        image = train_transform_rare(image)\n",
    "    else:\n",
    "        image = train_transform(image)\n",
    "    \n",
    "    # save\n",
    "    new_image_name = str(i) + '_' + row.img_name\n",
    "    save_path = os.path.join(data_dir, 'train', str(row.category_number), new_image_name)\n",
    "    image.save(save_path, 'jpeg')"
   ]
  },
  {
   "cell_type": "code",
   "execution_count": 16,
   "metadata": {},
   "outputs": [
    {
     "name": "stderr",
     "output_type": "stream",
     "text": [
      "339it [00:03, 85.92it/s]\n"
     ]
    }
   ],
   "source": [
    "# resize grayscale images\n",
    "for i, row in tqdm(T.loc[T.channels == 1].iterrows()):\n",
    "    # get image\n",
    "    file_path = os.path.join(train_dir, row.directory, row.img_name)\n",
    "    image = Image.open(file_path)\n",
    "    \n",
    "    # transform it\n",
    "    if class_counts[row.category_name] < 100:\n",
    "        image = train_transform_rare(image)\n",
    "    else:\n",
    "        image = train_transform(image)\n",
    "    \n",
    "    # convert to RGB\n",
    "    array = np.asarray(image, dtype='uint8')\n",
    "    array = np.stack([array, array, array], axis=2)\n",
    "    image = Image.fromarray(array)\n",
    "    \n",
    "    # save\n",
    "    new_image_name = str(i) + '_' + row.img_name\n",
    "    save_path = os.path.join(data_dir, 'train', str(row.category_number), new_image_name)\n",
    "    image.save(save_path, 'jpeg')"
   ]
  }
 ],
 "metadata": {
  "kernelspec": {
   "display_name": "Python 3",
   "language": "python",
   "name": "python3"
  },
  "language_info": {
   "codemirror_mode": {
    "name": "ipython",
    "version": 3
   },
   "file_extension": ".py",
   "mimetype": "text/x-python",
   "name": "python",
   "nbconvert_exporter": "python",
   "pygments_lexer": "ipython3",
   "version": "3.6.1"
  }
 },
 "nbformat": 4,
 "nbformat_minor": 2
}
